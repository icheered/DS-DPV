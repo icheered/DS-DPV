{
 "cells": [
  {
   "cell_type": "code",
   "execution_count": 1,
   "metadata": {},
   "outputs": [],
   "source": [
    "import pandas as pd # needed for most operation\n",
    "import numpy as np # needed for some array operations\n",
    "from sqlalchemy import create_engine # needed for DB connection\n",
    "\n",
    "inputfile = 'BI_Raw_Data.csv'\n",
    "\n",
    "# Read the CSV file into a pandas dataframe\n",
    "df = pd.read_csv(inputfile, delimiter=';', encoding=\"ISO-8859-1\")"
   ]
  },
  {
   "cell_type": "code",
   "execution_count": 2,
   "metadata": {},
   "outputs": [],
   "source": [
    "# Create the product table\n",
    "product = df[['Product_Name', 'Product_Category']].drop_duplicates()\n",
    "product['productid'] = np.arange(1, len(product)+1)\n",
    "product = product.rename(columns={'Product_Name': 'name', 'Product_Category': 'category'})\n",
    "product = product[['productid', 'name', 'category']]"
   ]
  },
  {
   "cell_type": "code",
   "execution_count": 3,
   "metadata": {},
   "outputs": [],
   "source": [
    "# Create the customer table\n",
    "customer = df[['Customer_Name', 'Customer_Country']].drop_duplicates()\n",
    "customer['customerid'] = np.arange(1, len(customer)+1)\n",
    "customer = customer.rename(columns={'Customer_Name': 'name', 'Customer_Country': 'country'})\n",
    "customer = customer[['customerid', 'name', 'country']]"
   ]
  },
  {
   "cell_type": "code",
   "execution_count": 9,
   "metadata": {},
   "outputs": [],
   "source": [
    "\n",
    "# Create the sales table\n",
    "sales = df[['Order_Date_Year', 'Order_Date_Month', 'Order_Date_Day', 'Customer_Name', 'Product_Name', 'Product_Order_Price_Total']]\n",
    "\n",
    "sales = pd.merge(sales, product, how='inner', left_on= ['Product_Name'], right_on = ['name'])\n",
    "sales = pd.merge(sales, customer, how='inner', left_on= ['Customer_Name'], right_on = ['name'])\n",
    "\n",
    "sales = sales.rename(columns={'Order_Date_Year': 'year', 'Order_Date_Month': 'month', 'Order_Date_Day': 'day', 'Product_Order_Price_Total': 'sales'})\n",
    "sales = sales[['year', 'month', 'day', 'customerid', 'productid', 'sales']]"
   ]
  },
  {
   "cell_type": "code",
   "execution_count": 5,
   "metadata": {},
   "outputs": [],
   "source": [
    "# Output the resulting tables to CSV files\n",
    "customer.to_csv('output/customer.csv', index=False)\n",
    "product.to_csv('output/product.csv', index=False)\n",
    "sales.to_csv('output/sales.csv', index=False)"
   ]
  },
  {
   "cell_type": "code",
   "execution_count": 10,
   "metadata": {},
   "outputs": [
    {
     "data": {
      "text/plain": [
       "155"
      ]
     },
     "execution_count": 10,
     "metadata": {},
     "output_type": "execute_result"
    }
   ],
   "source": [
    "# first create link to database\n",
    "# Replace username with the user name password with the password\n",
    "driver='postgresql'\n",
    "username='dab_ds22232a_46'\n",
    "dbname=username # it is the same as the username\n",
    "password='5wQ5aeeIp3Xaobd6'\n",
    "server='bronto.ewi.utwente.nl'\n",
    "port='5432'\n",
    "# Creating the connetcion pool for SQL\n",
    "engine = create_engine(f'{driver}://{username}:{password}@{server}:{port}/{dbname}')\n",
    "product.to_sql('product', engine,schema='ass2', index=False, if_exists='replace')\n",
    "customer.to_sql('customer', engine,schema='ass2',index=False, if_exists='replace')\n",
    "sales.to_sql('sales', engine,schema='ass2',index=False, if_exists='replace')"
   ]
  }
 ],
 "metadata": {
  "kernelspec": {
   "display_name": "Python 3 (ipykernel)",
   "language": "python",
   "name": "python3"
  },
  "language_info": {
   "codemirror_mode": {
    "name": "ipython",
    "version": 3
   },
   "file_extension": ".py",
   "mimetype": "text/x-python",
   "name": "python",
   "nbconvert_exporter": "python",
   "pygments_lexer": "ipython3",
   "version": "3.10.9"
  },
  "vscode": {
   "interpreter": {
    "hash": "30d3c0e4fa8d05f9c6a3186eb6f0cc211ca67d9e4bba2b8ee2d4e67f3b7d7009"
   }
  }
 },
 "nbformat": 4,
 "nbformat_minor": 2
}

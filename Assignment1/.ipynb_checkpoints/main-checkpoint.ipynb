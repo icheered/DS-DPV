{
 "cells": [
  {
   "cell_type": "code",
   "execution_count": 2,
   "metadata": {},
   "outputs": [],
   "source": [
    "import pandas as pd # needed for most operation\n",
    "import numpy as np # needed for some array operations\n",
    "from sqlalchemy import create_engine # needed for DB connection\n",
    "\n",
    "file_raw = 'BI_Raw_Data'"
   ]
  },
  {
   "cell_type": "code",
   "execution_count": null,
   "metadata": {},
   "outputs": [],
   "source": []
  }
 ],
 "metadata": {
  "kernelspec": {
   "display_name": "Python 3 (ipykernel)",
   "language": "python",
   "name": "python3"
  },
  "language_info": {
   "codemirror_mode": {
    "name": "ipython",
    "version": 3
   },
   "file_extension": ".py",
   "mimetype": "text/x-python",
   "name": "python",
   "nbconvert_exporter": "python",
   "pygments_lexer": "ipython3",
   "version": "3.9.7"
  },
  "vscode": {
   "interpreter": {
    "hash": "30d3c0e4fa8d05f9c6a3186eb6f0cc211ca67d9e4bba2b8ee2d4e67f3b7d7009"
   }
  }
 },
 "nbformat": 4,
 "nbformat_minor": 2
}

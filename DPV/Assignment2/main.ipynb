{
 "cells": [
  {
   "cell_type": "code",
   "execution_count": 23,
   "metadata": {},
   "outputs": [],
   "source": [
    "import pandas as pd # needed for most operation\n",
    "import numpy as np # needed for some array operations\n",
    "from sqlalchemy import create_engine, text # needed for DB connection\n",
    "\n",
    "inputfile = 'BI_Raw_Data.csv'\n",
    "\n",
    "# Read the CSV file into a pandas dataframe\n",
    "df = pd.read_csv(inputfile, delimiter=';', encoding=\"ISO-8859-1\")"
   ]
  },
  {
   "cell_type": "code",
   "execution_count": 24,
   "metadata": {},
   "outputs": [],
   "source": [
    "# Create the product table\n",
    "product = df[['Product_Name', 'Product_Category']].drop_duplicates()\n",
    "product['productid'] = np.arange(1, len(product)+1)\n",
    "product = product.rename(columns={'Product_Name': 'name', 'Product_Category': 'category'})\n",
    "product = product[['productid', 'name', 'category']]"
   ]
  },
  {
   "cell_type": "code",
   "execution_count": 25,
   "metadata": {},
   "outputs": [],
   "source": [
    "# Create the customer table\n",
    "customer = df[['Customer_Name', 'Customer_Country']].drop_duplicates()\n",
    "customer['customerid'] = np.arange(1, len(customer)+1)\n",
    "customer = customer.rename(columns={'Customer_Name': 'name', 'Customer_Country': 'country'})\n",
    "customer = customer[['customerid', 'name', 'country']]"
   ]
  },
  {
   "cell_type": "code",
   "execution_count": 26,
   "metadata": {},
   "outputs": [],
   "source": [
    "\n",
    "# Create the sales table\n",
    "sales = df[['Order_Date_Year', 'Order_Date_Month', 'Order_Date_Day', 'Customer_Name', 'Product_Name', 'Product_Order_Price_Total']]\n",
    "\n",
    "sales = pd.merge(sales, product, how='inner', left_on= ['Product_Name'], right_on = ['name'])\n",
    "sales = pd.merge(sales, customer, how='inner', left_on= ['Customer_Name'], right_on = ['name'])\n",
    "\n",
    "sales = sales.rename(columns={'Order_Date_Year': 'year', 'Order_Date_Month': 'month', 'Order_Date_Day': 'day', 'Product_Order_Price_Total': 'sales'})\n",
    "sales = sales[['year', 'month', 'day', 'customerid', 'productid', 'sales']]"
   ]
  },
  {
   "cell_type": "code",
   "execution_count": 27,
   "metadata": {},
   "outputs": [],
   "source": [
    "# Output the resulting tables to CSV files\n",
    "customer.to_csv('output/customer.csv', index=False)\n",
    "product.to_csv('output/product.csv', index=False)\n",
    "sales.to_csv('output/sales.csv', index=False)"
   ]
  },
  {
   "cell_type": "code",
   "execution_count": 28,
   "metadata": {},
   "outputs": [
    {
     "data": {
      "text/plain": [
       "155"
      ]
     },
     "execution_count": 28,
     "metadata": {},
     "output_type": "execute_result"
    }
   ],
   "source": [
    "# first create link to database\n",
    "# Replace username with the user name password with the password\n",
    "driver='postgresql'\n",
    "username='dab_ds22232a_46'\n",
    "dbname=username # it is the same as the username\n",
    "password='5wQ5aeeIp3Xaobd6'\n",
    "server='bronto.ewi.utwente.nl'\n",
    "port='5432'\n",
    "# Creating the connetcion pool for SQL\n",
    "engine = create_engine(f'{driver}://{username}:{password}@{server}:{port}/{dbname}')\n",
    "product.to_sql('product', engine,schema='ass2', index=False, if_exists='replace')\n",
    "customer.to_sql('customer', engine,schema='ass2',index=False, if_exists='replace')\n",
    "sales.to_sql('sales', engine,schema='ass2',index=False, if_exists='replace')"
   ]
  },
  {
   "cell_type": "code",
   "execution_count": 30,
   "metadata": {},
   "outputs": [
    {
     "name": "stdout",
     "output_type": "stream",
     "text": [
      "[('product',), ('customer',), ('sales',)]\n",
      "<class 'pandas.core.frame.DataFrame'>\n",
      "RangeIndex: 77 entries, 0 to 76\n",
      "Data columns (total 3 columns):\n",
      " #   Column     Non-Null Count  Dtype \n",
      "---  ------     --------------  ----- \n",
      " 0   productid  77 non-null     int64 \n",
      " 1   name       77 non-null     object\n",
      " 2   category   77 non-null     object\n",
      "dtypes: int64(1), object(2)\n",
      "memory usage: 1.9+ KB\n",
      "<class 'pandas.core.frame.DataFrame'>\n",
      "RangeIndex: 89 entries, 0 to 88\n",
      "Data columns (total 3 columns):\n",
      " #   Column      Non-Null Count  Dtype \n",
      "---  ------      --------------  ----- \n",
      " 0   customerid  89 non-null     int64 \n",
      " 1   name        89 non-null     object\n",
      " 2   country     89 non-null     object\n",
      "dtypes: int64(1), object(2)\n",
      "memory usage: 2.2+ KB\n",
      "<class 'pandas.core.frame.DataFrame'>\n",
      "RangeIndex: 2155 entries, 0 to 2154\n",
      "Data columns (total 6 columns):\n",
      " #   Column      Non-Null Count  Dtype  \n",
      "---  ------      --------------  -----  \n",
      " 0   year        2155 non-null   int64  \n",
      " 1   month       2155 non-null   int64  \n",
      " 2   day         2155 non-null   object \n",
      " 3   customerid  2155 non-null   int64  \n",
      " 4   productid   2155 non-null   int64  \n",
      " 5   sales       2155 non-null   float64\n",
      "dtypes: float64(1), int64(4), object(1)\n",
      "memory usage: 101.1+ KB\n"
     ]
    }
   ],
   "source": [
    "from sqlalchemy import create_engine, text # needed for DB connection\n",
    "import pandas as pd # needed for most operation\n",
    "import numpy as np # needed for some array operations\n",
    "\n",
    "driver='postgresql'\n",
    "username='dab_ds22232a_46'\n",
    "dbname=username # it is the same as the username\n",
    "password='5wQ5aeeIp3Xaobd6'\n",
    "server='bronto.ewi.utwente.nl'\n",
    "port='5432'\n",
    "engine = create_engine(f'{driver}://{username}:{password}@{server}:{port}/{dbname}')\n",
    "\n",
    "with engine.connect() as connection:\n",
    "    result = connection.execute(text(\"\"\"SELECT table_name FROM information_schema.tables\n",
    "                                    where table_schema='ass2'\"\"\")).fetchall() ## to get the tables from schema ass2\n",
    "    print(result)\n",
    "\n",
    "    pd.read_sql_table('product', connection, schema='ass2').info()\n",
    "    pd.read_sql_table('customer', connection, schema='ass2').info()\n",
    "    pd.read_sql_table('sales', connection, schema='ass2').info()"
   ]
  }
 ],
 "metadata": {
  "kernelspec": {
   "display_name": "Python 3",
   "language": "python",
   "name": "python3"
  },
  "language_info": {
   "codemirror_mode": {
    "name": "ipython",
    "version": 3
   },
   "file_extension": ".py",
   "mimetype": "text/x-python",
   "name": "python",
   "nbconvert_exporter": "python",
   "pygments_lexer": "ipython3",
   "version": "3.11.1"
  },
  "vscode": {
   "interpreter": {
    "hash": "ead1b95f633dc9c51826328e1846203f51a198c6fb5f2884a80417ba131d4e82"
   }
  }
 },
 "nbformat": 4,
 "nbformat_minor": 2
}

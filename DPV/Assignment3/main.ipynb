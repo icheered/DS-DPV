{
 "cells": [
  {
   "cell_type": "code",
   "execution_count": 32,
   "metadata": {},
   "outputs": [],
   "source": [
    "import pandas as pd # needed for most operation\n",
    "import numpy as np # needed for some array operations\n",
    "from sqlalchemy import create_engine # needed for DB connection\n",
    "from datetime import datetime\n",
    "from dateutil.relativedelta import relativedelta\n",
    "\n",
    "# Load the data from CSV files\n",
    "main_df = pd.read_csv('inputdata/main.csv', delimiter=';', encoding=\"ISO-8859-1\")\n",
    "managers_df = pd.read_csv('inputdata/managers.csv', delimiter=';', encoding=\"ISO-8859-1\")\n",
    "returns_df = pd.read_csv('inputdata/returns.csv', delimiter=';', encoding=\"ISO-8859-1\")"
   ]
  },
  {
   "cell_type": "code",
   "execution_count": 33,
   "metadata": {},
   "outputs": [],
   "source": [
    "# Create the 'Late' column\n",
    "\n",
    "# Convert date strings to datetime objects\n",
    "main_df['Order Date'] = main_df['Order Date'].apply(lambda x: datetime.strptime(x, '%d/%m/%y'))\n",
    "main_df['Ship Date'] = main_df['Ship Date'].apply(lambda x: datetime.strptime(x, '%d/%m/%y'))\n",
    "\n",
    "# Calculate the number of days late and create the \"Late\" column\n",
    "main_df['Late'] = main_df.apply(lambda x: 'Late' if (x['Ship Date'] - x['Order Date']).days > 2 else 'NotLate', axis=1)"
   ]
  },
  {
   "cell_type": "code",
   "execution_count": 34,
   "metadata": {},
   "outputs": [],
   "source": [
    "# Join the data from the three CSV files to create a single DataFrame\n",
    "merged_df = main_df.merge(managers_df, on='Region')\n",
    "merged_df = merged_df.merge(returns_df, on='Order ID')"
   ]
  },
  {
   "cell_type": "code",
   "execution_count": 35,
   "metadata": {},
   "outputs": [],
   "source": [
    "# Create the \"ReturnStatus\" dimension table\n",
    "return_status_df = pd.DataFrame({\n",
    "    'returnstatusid': [0, 1],\n",
    "    'returnvalue': ['NotReturned', 'Returned']\n",
    "})"
   ]
  },
  {
   "cell_type": "code",
   "execution_count": 36,
   "metadata": {},
   "outputs": [],
   "source": [
    "# Create the \"product\" dimension table\n",
    "product_df = merged_df[['Product Name', 'Product Category', 'Product Sub-Category']].drop_duplicates().reset_index(drop=True).reset_index().rename(columns={'index': 'productid'})\n",
    "product_df['productid'] += 1\n",
    "\n",
    "# Create the \"customers\" dimension table\n",
    "customers_df = merged_df[['Customer Name', 'Province', 'Region', 'Customer Segment']].drop_duplicates().reset_index(drop=True).reset_index().rename(columns={'index': 'customerid'})\n",
    "customers_df['customerid'] += 1"
   ]
  },
  {
   "cell_type": "code",
   "execution_count": 39,
   "metadata": {},
   "outputs": [],
   "source": [
    "# Create the \"sales\" fact table\n",
    "sales_df = merged_df.merge(product_df, on=['Product Name', 'Product Category', 'Product Sub-Category'])\n",
    "sales_df = sales_df.merge(customers_df, on=['Customer Name', 'Province', 'Region', 'Customer Segment'])\n",
    "sales_df = sales_df.merge(return_status_df, left_on='Status', right_on='returnvalue')\n",
    "sales_df = sales_df.rename(columns={\n",
    "    'productid': 'product_id',\n",
    "    'customerid': 'customer_id',\n",
    "    'orderdate': 'order_date',\n",
    "    'returnstatusid': 'return_status_id',\n",
    "    'lateid': 'late_id',\n",
    "    'sales': 'sales_amount',\n",
    "    'orderquantity': 'order_quantity',\n",
    "    'unitprice': 'unit_price',\n",
    "    'profit': 'profit_amount',\n",
    "    'shippingcost': 'shipping_cost'\n",
    "}).drop(['Product Name', 'Product Category', 'Product Sub-Category', 'Customer Name', 'Province', 'Region', 'Customer Segment', 'Status', 'Late'], axis=1)\n",
    "\n"
   ]
  },
  {
   "cell_type": "code",
   "execution_count": 40,
   "metadata": {},
   "outputs": [],
   "source": [
    "# Export the resulting tables to CSV files in an output directory (optional)\n",
    "sales_df.to_csv('output/sales.csv', index=False)\n",
    "product_df.to_csv('output/product.csv', index=False)\n",
    "customers_df.to_csv('output/customers.csv', index=False)\n",
    "return_status_df.to_csv('output/return_status.csv', index=False)"
   ]
  },
  {
   "cell_type": "code",
   "execution_count": 41,
   "metadata": {},
   "outputs": [
    {
     "data": {
      "text/plain": [
       "2"
      ]
     },
     "execution_count": 41,
     "metadata": {},
     "output_type": "execute_result"
    }
   ],
   "source": [
    "# Connect to database\n",
    "driver='postgresql'\n",
    "username='dab_ds22232a_46'\n",
    "dbname=username # it is the same as the username\n",
    "password='5wQ5aeeIp3Xaobd6'\n",
    "server='bronto.ewi.utwente.nl'\n",
    "port='5432'\n",
    "\n",
    "# Creating the connection pool for SQLalchemy\n",
    "engine = create_engine(f'{driver}://{username}:{password}@{server}:{port}/{dbname}')\n",
    "\n",
    "# Upload the data\n",
    "sales_df.to_sql('sales', engine,schema='ass3', index=False, if_exists='replace')\n",
    "product_df.to_sql('product', engine,schema='ass3', index=False, if_exists='replace')\n",
    "customers_df.to_sql('customers', engine,schema='ass3', index=False, if_exists='replace')\n",
    "return_status_df.to_sql('return_status', engine,schema='ass3', index=False, if_exists='replace')"
   ]
  }
 ],
 "metadata": {
  "kernelspec": {
   "display_name": "Python 3 (ipykernel)",
   "language": "python",
   "name": "python3"
  },
  "language_info": {
   "codemirror_mode": {
    "name": "ipython",
    "version": 3
   },
   "file_extension": ".py",
   "mimetype": "text/x-python",
   "name": "python",
   "nbconvert_exporter": "python",
   "pygments_lexer": "ipython3",
   "version": "3.10.9"
  },
  "vscode": {
   "interpreter": {
    "hash": "30d3c0e4fa8d05f9c6a3186eb6f0cc211ca67d9e4bba2b8ee2d4e67f3b7d7009"
   }
  }
 },
 "nbformat": 4,
 "nbformat_minor": 2
}
